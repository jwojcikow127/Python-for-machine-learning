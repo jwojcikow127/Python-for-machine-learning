{
  "nbformat": 4,
  "nbformat_minor": 0,
  "metadata": {
    "colab": {
      "provenance": [],
      "authorship_tag": "ABX9TyMxfDnSxV0gHpAO17WwcEUQ",
      "include_colab_link": true
    },
    "kernelspec": {
      "name": "python3",
      "display_name": "Python 3"
    },
    "language_info": {
      "name": "python"
    }
  },
  "cells": [
    {
      "cell_type": "markdown",
      "metadata": {
        "id": "view-in-github",
        "colab_type": "text"
      },
      "source": [
        "<a href=\"https://colab.research.google.com/github/jwojcikow127/Python-for-machine-learning/blob/while_variant/lab2task2.ipynb\" target=\"_parent\"><img src=\"https://colab.research.google.com/assets/colab-badge.svg\" alt=\"Open In Colab\"/></a>"
      ]
    },
    {
      "cell_type": "code",
      "execution_count": 7,
      "metadata": {
        "id": "E--BvBF2JsvE",
        "colab": {
          "base_uri": "https://localhost:8080/"
        },
        "outputId": "978a865a-082b-48b6-f43a-0dae55cec1e4"
      },
      "outputs": [
        {
          "output_type": "stream",
          "name": "stdout",
          "text": [
            "1\n",
            "2\n",
            "3\n",
            "4\n",
            "5\n",
            "6\n",
            "8\n",
            "8\n",
            "8\n"
          ]
        }
      ],
      "source": [
        "a = [1,2,3,4,5,6,8,8,8]\n",
        "i=0\n",
        "while i<len(a):\n",
        "\n",
        "  print(a[i])\n",
        "  i= i + 1\n"
      ]
    }
  ]
}